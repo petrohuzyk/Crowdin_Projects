{
 "cells": [
  {
   "cell_type": "markdown",
   "metadata": {},
   "source": [
    "# Evaluation"
   ]
  },
  {
   "cell_type": "code",
   "execution_count": 108,
   "metadata": {},
   "outputs": [],
   "source": [
    "import matplotlib.pyplot as plt\n",
    "import numpy as np\n",
    "import pandas as pd"
   ]
  },
  {
   "cell_type": "code",
   "execution_count": 109,
   "metadata": {},
   "outputs": [],
   "source": [
    "from sklearn.datasets import load_iris\n",
    "from sklearn.model_selection import train_test_split"
   ]
  },
  {
   "cell_type": "code",
   "execution_count": 110,
   "metadata": {},
   "outputs": [],
   "source": [
    "iris = load_iris()\n",
    "X, y, labels = iris.data, iris.target, iris.target_names"
   ]
  },
  {
   "cell_type": "code",
   "execution_count": 111,
   "metadata": {},
   "outputs": [],
   "source": [
    "X_train, X_test, y_train, y_test = train_test_split(X,y, random_state = 42)"
   ]
  },
  {
   "cell_type": "markdown",
   "metadata": {},
   "source": [
    "### Dummy classifier "
   ]
  },
  {
   "cell_type": "code",
   "execution_count": 112,
   "metadata": {},
   "outputs": [
    {
     "name": "stdout",
     "output_type": "stream",
     "text": [
      "###########################\n",
      "Dummy, most frequent\n",
      "Prediction:  [1 1 1 1 1 1 1 1 1 1 1 1 1 1 1 1 1 1 1 1]\n",
      "train accuracy= 34.821%\n",
      "test accuracy= 28.947%\n",
      "###########################\n",
      "Dummy, stratified\n",
      "Prediction:  [1 0 2 1 0 0 1 2 2 2 1 1 0 2 0 2 2 0 2 0]\n",
      "train accuracy= 36.607%\n",
      "test accuracy= 31.579%\n",
      "###########################\n",
      "Dummy, uniform\n",
      "Prediction:  [2 1 2 1 0 0 2 0 2 0 1 0 1 1 2 0 2 1 1 1]\n",
      "train accuracy= 33.036%\n",
      "test accuracy= 28.947%\n",
      "###########################\n",
      "Dummy, uniform\n",
      "Prediction:  [2 2 2 2 2 2 2 2 2 2 2 2 2 2 2 2 2 2 2 2]\n",
      "train accuracy= 33.929%\n",
      "test accuracy= 31.579%\n"
     ]
    }
   ],
   "source": [
    "from sklearn.dummy import DummyClassifier\n",
    "# always predicts the most frequent label in the training set \n",
    "clf = DummyClassifier(strategy='most_frequent').fit(X_train, y_train)\n",
    "print(\"###########################\")\n",
    "print(\"Dummy, most frequent\")\n",
    "print(\"Prediction: \", clf.predict(X_test)[:20])\n",
    "print(\"train accuracy= {:.3%}\".format(clf.score (X_train, y_train)))\n",
    "print(\"test accuracy= {:.3%}\".format(clf.score (X_test, y_test)))\n",
    "\n",
    "# generates predictions by respecting the training set’s class distribution\n",
    "clf = DummyClassifier(strategy='stratified').fit(X_train, y_train)\n",
    "print(\"###########################\")\n",
    "print(\"Dummy, stratified\")\n",
    "print(\"Prediction: \", clf.predict(X_test)[:20])\n",
    "print(\"train accuracy= {:.3%}\".format(clf.score (X_train, y_train)))\n",
    "print(\"test accuracy= {:.3%}\".format(clf.score (X_test, y_test)))\n",
    "\n",
    "# enerates predictions uniformly at random\n",
    "clf = DummyClassifier(strategy='uniform').fit(X_train, y_train)\n",
    "print(\"###########################\")\n",
    "print(\"Dummy, uniform\")\n",
    "print(\"Prediction: \", clf.predict(X_test)[:20])\n",
    "print(\"train accuracy= {:.3%}\".format(clf.score (X_train, y_train)))\n",
    "print(\"test accuracy= {:.3%}\".format(clf.score (X_test, y_test)))\n",
    "\n",
    "#  always predicts a constant label\n",
    "clf = DummyClassifier(strategy='constant', constant = 2).fit(X_train, y_train)\n",
    "print(\"###########################\")\n",
    "print(\"Dummy, uniform\")\n",
    "print(\"Prediction: \", clf.predict(X_test)[:20])\n",
    "print(\"train accuracy= {:.3%}\".format(clf.score (X_train, y_train)))\n",
    "print(\"test accuracy= {:.3%}\".format(clf.score (X_test, y_test)))\n"
   ]
  },
  {
   "cell_type": "markdown",
   "metadata": {},
   "source": [
    "### Metrics"
   ]
  },
  {
   "cell_type": "code",
   "execution_count": 113,
   "metadata": {},
   "outputs": [],
   "source": [
    "from sklearn.tree import DecisionTreeClassifier\n",
    "from sklearn.metrics import accuracy_score, precision_score, recall_score, f1_score"
   ]
  },
  {
   "cell_type": "code",
   "execution_count": 115,
   "metadata": {},
   "outputs": [
    {
     "name": "stdout",
     "output_type": "stream",
     "text": [
      "accuracy = 1.0\n",
      "recall =  [1. 1. 1.]\n",
      "precision =  [1. 1. 1.]\n",
      "f1_score  =  [1. 1. 1.]\n"
     ]
    }
   ],
   "source": [
    "max_depth = 4\n",
    "clf = DecisionTreeClassifier(\n",
    "    criterion=  'entropy',\n",
    "    random_state=42,        \n",
    "    max_depth=max_depth,\n",
    ").fit(X_train, y_train)\n",
    "y_predicted = clf.predict(X_test)\n",
    "print ('accuracy = {:.2}'.format(accuracy_score(y_test, y_predicted)))\n",
    "print ('recall = ', recall_score(y_test, y_predicted, average=None))\n",
    "print ('precision = ', precision_score(y_test, y_predicted, average=None))\n",
    "print ('f1_score  = ', f1_score(y_test, y_predicted, average=None))\n"
   ]
  },
  {
   "cell_type": "code",
   "execution_count": 134,
   "metadata": {},
   "outputs": [],
   "source": [
    "from sklearn.datasets import load_breast_cancer"
   ]
  },
  {
   "cell_type": "code",
   "execution_count": 135,
   "metadata": {},
   "outputs": [],
   "source": [
    "cancer = load_breast_cancer()"
   ]
  },
  {
   "cell_type": "code",
   "execution_count": 136,
   "metadata": {},
   "outputs": [],
   "source": [
    "X, y, labels, features = cancer.data, cancer.target, cancer.target_names, cancer.feature_names\n",
    "X_train, X_test, y_train, y_test = train_test_split(X, y, random_state = 42)"
   ]
  },
  {
   "cell_type": "code",
   "execution_count": 141,
   "metadata": {},
   "outputs": [
    {
     "name": "stdout",
     "output_type": "stream",
     "text": [
      "accuracy = 0.95\n",
      "precision = 0.96\n",
      "recall = 0.97\n",
      "f1_score  = 0.96\n"
     ]
    }
   ],
   "source": [
    "clf = DecisionTreeClassifier(max_depth=3).fit(X_train, y_train)\n",
    "y_predicted = clf.predict(X_test)\n",
    "print ('accuracy = {:.2}'.format(accuracy_score(y_test, y_predicted)))\n",
    "print ('precision = {:.2}'.format(precision_score(y_test, y_predicted)))\n",
    "print ('recall = {:.2}'.format(recall_score(y_test, y_predicted)))\n",
    "print ('f1_score  = {:.2}'.format(f1_score(y_test, y_predicted)))"
   ]
  },
  {
   "cell_type": "code",
   "execution_count": 158,
   "metadata": {},
   "outputs": [],
   "source": [
    "from sklearn.datasets import load_wine\n",
    "from sklearn.ensemble import RandomForestClassifier"
   ]
  },
  {
   "cell_type": "code",
   "execution_count": 159,
   "metadata": {},
   "outputs": [
    {
     "data": {
      "text/plain": [
       "array(['class_0', 'class_1', 'class_2'], dtype='<U7')"
      ]
     },
     "execution_count": 159,
     "metadata": {},
     "output_type": "execute_result"
    }
   ],
   "source": [
    "wine = load_wine()\n",
    "X, y, labels, features = wine.data, wine.target, wine.target_names, wine.feature_names\n",
    "X_train, X_test, y_train, y_test = train_test_split(X, y, random_state = 42)\n",
    "wine.target_names"
   ]
  },
  {
   "cell_type": "code",
   "execution_count": 163,
   "metadata": {},
   "outputs": [
    {
     "name": "stdout",
     "output_type": "stream",
     "text": [
      "accuracy = 0.98\n",
      "precision =  0.9794871794871796\n",
      "recall =  0.9777777777777777\n",
      "f1_score  =  0.9779047619047618\n"
     ]
    }
   ],
   "source": [
    "clf = RandomForestClassifier().fit(X_train, y_train)\n",
    "y_predicted = clf.predict(X_test)\n",
    "print ('accuracy = {:.2}'.format(accuracy_score(y_test, y_predicted)))\n",
    "print ('precision = ', precision_score(y_test, y_predicted, average='weighted'))\n",
    "print ('recall = ', recall_score(y_test, y_predicted, average='weighted'))\n",
    "print ('f1_score  = ', f1_score(y_test, y_predicted, average='weighted'))"
   ]
  },
  {
   "cell_type": "code",
   "execution_count": null,
   "metadata": {},
   "outputs": [],
   "source": []
  }
 ],
 "metadata": {
  "kernelspec": {
   "display_name": "Python 3",
   "language": "python",
   "name": "python3"
  },
  "language_info": {
   "codemirror_mode": {
    "name": "ipython",
    "version": 3
   },
   "file_extension": ".py",
   "mimetype": "text/x-python",
   "name": "python",
   "nbconvert_exporter": "python",
   "pygments_lexer": "ipython3",
   "version": "3.7.1"
  }
 },
 "nbformat": 4,
 "nbformat_minor": 2
}
