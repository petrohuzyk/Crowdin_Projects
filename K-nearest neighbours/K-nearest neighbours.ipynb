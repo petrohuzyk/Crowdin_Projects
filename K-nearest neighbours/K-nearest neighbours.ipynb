{
 "cells": [
  {
   "cell_type": "markdown",
   "metadata": {},
   "source": [
    "# K-nearest neighbours"
   ]
  },
  {
   "cell_type": "code",
   "execution_count": 76,
   "metadata": {},
   "outputs": [],
   "source": [
    "# import module\n",
    "from sklearn.datasets import load_iris\n",
    "from sklearn.cross_validation import train_test_split\n",
    "from sklearn.neighbors import KNeighborsClassifier"
   ]
  },
  {
   "cell_type": "code",
   "execution_count": 77,
   "metadata": {},
   "outputs": [
    {
     "name": "stdout",
     "output_type": "stream",
     "text": [
      "Iris data: \n",
      " [[5.1 3.5 1.4 0.2]\n",
      " [4.9 3.  1.4 0.2]\n",
      " [4.7 3.2 1.3 0.2]\n",
      " [4.6 3.1 1.5 0.2]\n",
      " [5.  3.6 1.4 0.2]]\n",
      "Iris targets: \n",
      " [0 0 0 0 0 0 0 0 0 0 0 0 0 0 0 0 0 0 0 0 0 0 0 0 0 0 0 0 0 0 0 0 0 0 0 0 0\n",
      " 0 0 0 0 0 0 0 0 0 0 0 0 0 1 1 1 1 1 1 1 1 1 1 1 1 1 1 1 1 1 1 1 1 1 1 1 1\n",
      " 1 1 1 1 1 1 1 1 1 1 1 1 1 1 1 1 1 1 1 1 1 1 1 1 1 1 2 2 2 2 2 2 2 2 2 2 2\n",
      " 2 2 2 2 2 2 2 2 2 2 2 2 2 2 2 2 2 2 2 2 2 2 2 2 2 2 2 2 2 2 2 2 2 2 2 2 2\n",
      " 2 2]\n",
      "Target names: \n",
      " ['setosa' 'versicolor' 'virginica']\n",
      "Feature names: \n",
      " ['sepal length (cm)', 'sepal width (cm)', 'petal length (cm)', 'petal width (cm)']\n"
     ]
    }
   ],
   "source": [
    "# import dataset\n",
    "iris = load_iris()\n",
    "\n",
    "# exploring dataset\n",
    "print(\"Iris data: \\n\", iris.data[:5])\n",
    "print(\"Iris targets: \\n\", iris.target)\n",
    "print(\"Target names: \\n\", iris.target_names)\n",
    "# print(\"DESCR: \\n\", iris.DESCR)\n",
    "print(\"Feature names: \\n\", iris.feature_names)"
   ]
  },
  {
   "cell_type": "code",
   "execution_count": 78,
   "metadata": {},
   "outputs": [],
   "source": [
    "# initializing and spliting dataset \n",
    "X, y, labels = iris.data, iris.target, iris.target_names\n",
    "X_train, X_test, y_train, y_test = train_test_split(X, y, train_size=0.4, random_state=42)"
   ]
  },
  {
   "cell_type": "code",
   "execution_count": 79,
   "metadata": {},
   "outputs": [
    {
     "name": "stdout",
     "output_type": "stream",
     "text": [
      "Number of k neghboards: 1\n",
      "Train set accuracy: 1.00\n",
      "Test set accuracy: 0.98\n",
      "\n",
      "Number of k neghboards: 2\n",
      "Train set accuracy: 0.93\n",
      "Test set accuracy: 0.94\n",
      "\n",
      "Number of k neghboards: 3\n",
      "Train set accuracy: 0.95\n",
      "Test set accuracy: 0.96\n",
      "\n",
      "Number of k neghboards: 4\n",
      "Train set accuracy: 0.95\n",
      "Test set accuracy: 0.94\n",
      "\n",
      "Number of k neghboards: 5\n",
      "Train set accuracy: 0.95\n",
      "Test set accuracy: 0.94\n",
      "\n"
     ]
    }
   ],
   "source": [
    "neighbours_settings = range(1, 6)\n",
    "for neighbour in neighbours_settings:\n",
    "    clf = KNeighborsClassifier(n_neighbors=neighbour)\n",
    "    clf.fit(X_train, y_train)\n",
    "    print(\"Number of k neghboards: {}\".format(neighbour))\n",
    "    print(\"Train set accuracy: {:.2f}\".format(clf.score(X_train, y_train)))\n",
    "    print(\"Test set accuracy: {:.2f}\\n\".format(clf.score(X_test, y_test)))"
   ]
  }
 ],
 "metadata": {
  "kernelspec": {
   "display_name": "Python 3",
   "language": "python",
   "name": "python3"
  },
  "language_info": {
   "codemirror_mode": {
    "name": "ipython",
    "version": 3
   },
   "file_extension": ".py",
   "mimetype": "text/x-python",
   "name": "python",
   "nbconvert_exporter": "python",
   "pygments_lexer": "ipython3",
   "version": "3.7.1"
  }
 },
 "nbformat": 4,
 "nbformat_minor": 2
}
